{
 "cells": [
  {
   "cell_type": "markdown",
   "id": "320e9988",
   "metadata": {},
   "source": [
    "Angela Diaz | \n",
    "ANA675 Neural Networks & Deep Learning |\n",
    "Week 2 Assignment 2 |\n",
    "7/21/2024"
   ]
  },
  {
   "cell_type": "markdown",
   "id": "38c4e1dc",
   "metadata": {},
   "source": [
    "## Use Keras to design and train an MLP neural network (Backpropagation algorithm)"
   ]
  },
  {
   "cell_type": "code",
   "execution_count": 1,
   "id": "1b46790d",
   "metadata": {},
   "outputs": [],
   "source": [
    "# Import Packages\n",
    "import pandas as pd\n",
    "import numpy as np\n",
    "import tensorflow as tf\n",
    "from tensorflow import keras\n",
    "from keras.models import Sequential\n",
    "from keras.layers import Dense\n",
    "from keras.optimizers import Adam"
   ]
  },
  {
   "cell_type": "code",
   "execution_count": 2,
   "id": "e3f7f01e",
   "metadata": {},
   "outputs": [],
   "source": [
    "# Create the table\n",
    "#  x  y  z  f\n",
    "#  0  0  0  0\n",
    "#  0  0  1  1\n",
    "#  0  1  0  1\n",
    "#  0  1  1  0\n",
    "#  1  0  0  1\n",
    "#  1  0  1  0\n",
    "#  1  1  0  0\n",
    "#  1  1  1  1"
   ]
  },
  {
   "cell_type": "code",
   "execution_count": 3,
   "id": "53a42519",
   "metadata": {},
   "outputs": [],
   "source": [
    "# Create the input data and their corresponding output.\n",
    "X = ([0,0,0], [0,0,1], [0,1,0], [0,1,1], [1,0,0], [1,0,1], [1,1,0], [1,1,1])\n",
    "y = ([0], [1], [1], [0], [1], [0], [0], [1])"
   ]
  },
  {
   "cell_type": "code",
   "execution_count": 4,
   "id": "0270e2fc",
   "metadata": {},
   "outputs": [],
   "source": [
    "# Convert to tensors\n",
    "X = tf.convert_to_tensor(X, dtype=tf.float32)\n",
    "y = tf.convert_to_tensor(y, dtype=tf.float32)"
   ]
  },
  {
   "cell_type": "code",
   "execution_count": 5,
   "id": "b5e6e14d",
   "metadata": {},
   "outputs": [
    {
     "data": {
      "text/plain": [
       "TensorShape([8, 3])"
      ]
     },
     "execution_count": 5,
     "metadata": {},
     "output_type": "execute_result"
    }
   ],
   "source": [
    "X.shape"
   ]
  },
  {
   "cell_type": "code",
   "execution_count": 6,
   "id": "8416db6d",
   "metadata": {},
   "outputs": [
    {
     "data": {
      "text/plain": [
       "TensorShape([8, 1])"
      ]
     },
     "execution_count": 6,
     "metadata": {},
     "output_type": "execute_result"
    }
   ],
   "source": [
    "y.shape"
   ]
  },
  {
   "cell_type": "code",
   "execution_count": 7,
   "id": "8c1c6181",
   "metadata": {},
   "outputs": [],
   "source": [
    "#Design the neural network. \n",
    "model = keras.models.Sequential([\n",
    "    keras.layers.Dense(5, input_dim = 3, activation = \"relu\"),\n",
    "    keras.layers.Dense(1, activation = \"sigmoid\")\n",
    "])"
   ]
  },
  {
   "cell_type": "code",
   "execution_count": 8,
   "id": "4cc34fb8",
   "metadata": {},
   "outputs": [],
   "source": [
    "# Compile the model\n",
    "model.compile(optimizer = Adam(learning_rate = 0.01),\n",
    "             loss = 'binary_crossentropy',\n",
    "             metrics = ['accuracy'])"
   ]
  },
  {
   "cell_type": "code",
   "execution_count": 9,
   "id": "e53f5672",
   "metadata": {},
   "outputs": [
    {
     "name": "stdout",
     "output_type": "stream",
     "text": [
      "Model: \"sequential\"\n",
      "_________________________________________________________________\n",
      " Layer (type)                Output Shape              Param #   \n",
      "=================================================================\n",
      " dense (Dense)               (None, 5)                 20        \n",
      "                                                                 \n",
      " dense_1 (Dense)             (None, 1)                 6         \n",
      "                                                                 \n",
      "=================================================================\n",
      "Total params: 26 (104.00 Byte)\n",
      "Trainable params: 26 (104.00 Byte)\n",
      "Non-trainable params: 0 (0.00 Byte)\n",
      "_________________________________________________________________\n"
     ]
    }
   ],
   "source": [
    "model.summary()"
   ]
  },
  {
   "cell_type": "code",
   "execution_count": 10,
   "id": "af949b6d",
   "metadata": {},
   "outputs": [
    {
     "name": "stdout",
     "output_type": "stream",
     "text": [
      "Epoch 1/10\n",
      "1/1 [==============================] - 0s 483ms/step - loss: 0.7081 - accuracy: 0.6250\n",
      "Epoch 2/10\n",
      "1/1 [==============================] - 0s 0s/step - loss: 0.7055 - accuracy: 0.6250\n",
      "Epoch 3/10\n",
      "1/1 [==============================] - 0s 16ms/step - loss: 0.7029 - accuracy: 0.6250\n",
      "Epoch 4/10\n",
      "1/1 [==============================] - 0s 2ms/step - loss: 0.7008 - accuracy: 0.6250\n",
      "Epoch 5/10\n",
      "1/1 [==============================] - 0s 0s/step - loss: 0.6989 - accuracy: 0.6250\n",
      "Epoch 6/10\n",
      "1/1 [==============================] - 0s 16ms/step - loss: 0.6971 - accuracy: 0.6250\n",
      "Epoch 7/10\n",
      "1/1 [==============================] - 0s 0s/step - loss: 0.6953 - accuracy: 0.6250\n",
      "Epoch 8/10\n",
      "1/1 [==============================] - 0s 13ms/step - loss: 0.6938 - accuracy: 0.6250\n",
      "Epoch 9/10\n",
      "1/1 [==============================] - 0s 2ms/step - loss: 0.6925 - accuracy: 0.6250\n",
      "Epoch 10/10\n",
      "1/1 [==============================] - 0s 0s/step - loss: 0.6914 - accuracy: 0.6250\n"
     ]
    },
    {
     "data": {
      "text/plain": [
       "<keras.src.callbacks.History at 0x2901f80dc50>"
      ]
     },
     "execution_count": 10,
     "metadata": {},
     "output_type": "execute_result"
    }
   ],
   "source": [
    "# Train the model\n",
    "model.fit(X, y, epochs = 10)"
   ]
  },
  {
   "cell_type": "code",
   "execution_count": 11,
   "id": "b68adfc7",
   "metadata": {},
   "outputs": [
    {
     "name": "stdout",
     "output_type": "stream",
     "text": [
      "1/1 [==============================] - 0s 108ms/step - loss: 0.6903 - accuracy: 0.6250\n",
      "Loss: 0.6903451681137085, Accuracy: 0.625\n"
     ]
    }
   ],
   "source": [
    "# Evaluate the model\n",
    "loss, accuracy = model.evaluate(X,y)\n",
    "print(f'Loss: {loss}, Accuracy: {accuracy}')"
   ]
  },
  {
   "cell_type": "code",
   "execution_count": 12,
   "id": "bffef3b0",
   "metadata": {},
   "outputs": [
    {
     "name": "stdout",
     "output_type": "stream",
     "text": [
      "1/1 [==============================] - 0s 52ms/step\n",
      "[[0.48254448]\n",
      " [0.44547623]\n",
      " [0.5013906 ]\n",
      " [0.43975458]\n",
      " [0.55949026]\n",
      " [0.5257668 ]\n",
      " [0.560809  ]\n",
      " [0.52942586]]\n"
     ]
    }
   ],
   "source": [
    "# Make predictions\n",
    "prediction = model.predict(X)\n",
    "print(prediction)"
   ]
  },
  {
   "cell_type": "code",
   "execution_count": 13,
   "id": "7cfbed90",
   "metadata": {},
   "outputs": [],
   "source": [
    "# Tune Model by adding hidden layer\n",
    "model2 = keras.models.Sequential([\n",
    "    keras.layers.Dense(5, input_dim = 3, activation = \"relu\"),\n",
    "    keras.layers.Dense(3, activation = \"relu\"),\n",
    "    keras.layers.Dense(1, activation = \"sigmoid\")\n",
    "])"
   ]
  },
  {
   "cell_type": "code",
   "execution_count": 14,
   "id": "26b038c0",
   "metadata": {},
   "outputs": [],
   "source": [
    "model2.compile(optimizer = Adam(learning_rate = 0.01),\n",
    "             loss = 'binary_crossentropy',\n",
    "             metrics = ['accuracy'])"
   ]
  },
  {
   "cell_type": "code",
   "execution_count": 15,
   "id": "374ca8d0",
   "metadata": {},
   "outputs": [
    {
     "name": "stdout",
     "output_type": "stream",
     "text": [
      "Model: \"sequential_1\"\n",
      "_________________________________________________________________\n",
      " Layer (type)                Output Shape              Param #   \n",
      "=================================================================\n",
      " dense_2 (Dense)             (None, 5)                 20        \n",
      "                                                                 \n",
      " dense_3 (Dense)             (None, 3)                 18        \n",
      "                                                                 \n",
      " dense_4 (Dense)             (None, 1)                 4         \n",
      "                                                                 \n",
      "=================================================================\n",
      "Total params: 42 (168.00 Byte)\n",
      "Trainable params: 42 (168.00 Byte)\n",
      "Non-trainable params: 0 (0.00 Byte)\n",
      "_________________________________________________________________\n"
     ]
    }
   ],
   "source": [
    "model2.summary()"
   ]
  },
  {
   "cell_type": "code",
   "execution_count": 16,
   "id": "63163ddf",
   "metadata": {},
   "outputs": [
    {
     "name": "stdout",
     "output_type": "stream",
     "text": [
      "Epoch 1/10\n",
      "1/1 [==============================] - 1s 511ms/step - loss: 0.7213 - accuracy: 0.5000\n",
      "Epoch 2/10\n",
      "1/1 [==============================] - 0s 12ms/step - loss: 0.7168 - accuracy: 0.3750\n",
      "Epoch 3/10\n",
      "1/1 [==============================] - 0s 10ms/step - loss: 0.7131 - accuracy: 0.5000\n",
      "Epoch 4/10\n",
      "1/1 [==============================] - 0s 0s/step - loss: 0.7100 - accuracy: 0.5000\n",
      "Epoch 5/10\n",
      "1/1 [==============================] - 0s 16ms/step - loss: 0.7073 - accuracy: 0.5000\n",
      "Epoch 6/10\n",
      "1/1 [==============================] - 0s 0s/step - loss: 0.7046 - accuracy: 0.5000\n",
      "Epoch 7/10\n",
      "1/1 [==============================] - 0s 12ms/step - loss: 0.7026 - accuracy: 0.5000\n",
      "Epoch 8/10\n",
      "1/1 [==============================] - 0s 2ms/step - loss: 0.7004 - accuracy: 0.5000\n",
      "Epoch 9/10\n",
      "1/1 [==============================] - 0s 0s/step - loss: 0.6979 - accuracy: 0.5000\n",
      "Epoch 10/10\n",
      "1/1 [==============================] - 0s 5ms/step - loss: 0.6953 - accuracy: 0.5000\n"
     ]
    },
    {
     "data": {
      "text/plain": [
       "<keras.src.callbacks.History at 0x2901f75f8d0>"
      ]
     },
     "execution_count": 16,
     "metadata": {},
     "output_type": "execute_result"
    }
   ],
   "source": [
    "model2.fit(X, y, epochs = 10)"
   ]
  },
  {
   "cell_type": "code",
   "execution_count": 17,
   "id": "383bfc8a",
   "metadata": {},
   "outputs": [
    {
     "name": "stdout",
     "output_type": "stream",
     "text": [
      "1/1 [==============================] - 0s 80ms/step - loss: 0.6930 - accuracy: 0.5000\n",
      "Loss: 0.6930103898048401, Accuracy: 0.5\n"
     ]
    }
   ],
   "source": [
    "loss, accuracy = model2.evaluate(X,y)\n",
    "print(f'Loss: {loss}, Accuracy: {accuracy}')"
   ]
  },
  {
   "cell_type": "code",
   "execution_count": 18,
   "id": "b23e4e58",
   "metadata": {},
   "outputs": [
    {
     "name": "stdout",
     "output_type": "stream",
     "text": [
      "1/1 [==============================] - 0s 56ms/step\n",
      "[[0.5148092 ]\n",
      " [0.49876305]\n",
      " [0.5053901 ]\n",
      " [0.5148092 ]\n",
      " [0.5148092 ]\n",
      " [0.5148092 ]\n",
      " [0.4875116 ]\n",
      " [0.5148092 ]]\n"
     ]
    }
   ],
   "source": [
    "prediction = model2.predict(X)\n",
    "print(prediction)"
   ]
  },
  {
   "cell_type": "code",
   "execution_count": 19,
   "id": "c01d4a31",
   "metadata": {},
   "outputs": [],
   "source": [
    "# Tune Model by increasing neurons in hidden layer and adding a hidden layer\n",
    "model3 = keras.models.Sequential([\n",
    "    keras.layers.Dense(15, input_dim = 3, activation = \"relu\"),\n",
    "    keras.layers.Dense(13, activation = \"relu\"),\n",
    "    keras.layers.Dense(11, activation = \"relu\"),\n",
    "    keras.layers.Dense(1, activation = \"sigmoid\")\n",
    "])"
   ]
  },
  {
   "cell_type": "code",
   "execution_count": 20,
   "id": "29fca794",
   "metadata": {},
   "outputs": [],
   "source": [
    "model3.compile(optimizer = Adam(learning_rate = 0.01),\n",
    "             loss = 'binary_crossentropy',\n",
    "             metrics = ['accuracy'])"
   ]
  },
  {
   "cell_type": "code",
   "execution_count": 21,
   "id": "e6941aae",
   "metadata": {},
   "outputs": [
    {
     "name": "stdout",
     "output_type": "stream",
     "text": [
      "Model: \"sequential_2\"\n",
      "_________________________________________________________________\n",
      " Layer (type)                Output Shape              Param #   \n",
      "=================================================================\n",
      " dense_5 (Dense)             (None, 15)                60        \n",
      "                                                                 \n",
      " dense_6 (Dense)             (None, 13)                208       \n",
      "                                                                 \n",
      " dense_7 (Dense)             (None, 11)                154       \n",
      "                                                                 \n",
      " dense_8 (Dense)             (None, 1)                 12        \n",
      "                                                                 \n",
      "=================================================================\n",
      "Total params: 434 (1.70 KB)\n",
      "Trainable params: 434 (1.70 KB)\n",
      "Non-trainable params: 0 (0.00 Byte)\n",
      "_________________________________________________________________\n"
     ]
    }
   ],
   "source": [
    "model3.summary()"
   ]
  },
  {
   "cell_type": "code",
   "execution_count": 22,
   "id": "14ac2132",
   "metadata": {},
   "outputs": [
    {
     "name": "stdout",
     "output_type": "stream",
     "text": [
      "Epoch 1/10\n",
      "1/1 [==============================] - 1s 636ms/step - loss: 0.6935 - accuracy: 0.6250\n",
      "Epoch 2/10\n",
      "1/1 [==============================] - 0s 7ms/step - loss: 0.6805 - accuracy: 0.6250\n",
      "Epoch 3/10\n",
      "1/1 [==============================] - 0s 0s/step - loss: 0.6698 - accuracy: 0.6250\n",
      "Epoch 4/10\n",
      "1/1 [==============================] - 0s 17ms/step - loss: 0.6618 - accuracy: 0.6250\n",
      "Epoch 5/10\n",
      "1/1 [==============================] - 0s 0s/step - loss: 0.6536 - accuracy: 0.7500\n",
      "Epoch 6/10\n",
      "1/1 [==============================] - 0s 11ms/step - loss: 0.6462 - accuracy: 0.8750\n",
      "Epoch 7/10\n",
      "1/1 [==============================] - 0s 4ms/step - loss: 0.6366 - accuracy: 0.8750\n",
      "Epoch 8/10\n",
      "1/1 [==============================] - 0s 0s/step - loss: 0.6282 - accuracy: 0.8750\n",
      "Epoch 9/10\n",
      "1/1 [==============================] - 0s 17ms/step - loss: 0.6193 - accuracy: 0.8750\n",
      "Epoch 10/10\n",
      "1/1 [==============================] - 0s 0s/step - loss: 0.6089 - accuracy: 0.8750\n"
     ]
    },
    {
     "data": {
      "text/plain": [
       "<keras.src.callbacks.History at 0x29021bc6790>"
      ]
     },
     "execution_count": 22,
     "metadata": {},
     "output_type": "execute_result"
    }
   ],
   "source": [
    "model3.fit(X, y, epochs = 10)"
   ]
  },
  {
   "cell_type": "code",
   "execution_count": 23,
   "id": "2aaf9c79",
   "metadata": {},
   "outputs": [
    {
     "name": "stdout",
     "output_type": "stream",
     "text": [
      "1/1 [==============================] - 0s 97ms/step - loss: 0.5978 - accuracy: 0.8750\n",
      "Loss: 0.5977625846862793, Accuracy: 0.875\n"
     ]
    }
   ],
   "source": [
    "loss, accuracy = model3.evaluate(X,y)\n",
    "print(f'Loss: {loss}, Accuracy: {accuracy}')"
   ]
  },
  {
   "cell_type": "code",
   "execution_count": 24,
   "id": "bc05a48a",
   "metadata": {},
   "outputs": [
    {
     "name": "stdout",
     "output_type": "stream",
     "text": [
      "1/1 [==============================] - 0s 56ms/step\n",
      "[[0.45958382]\n",
      " [0.5622126 ]\n",
      " [0.5252787 ]\n",
      " [0.40292472]\n",
      " [0.5465956 ]\n",
      " [0.508777  ]\n",
      " [0.4187196 ]\n",
      " [0.56335485]]\n"
     ]
    }
   ],
   "source": [
    "prediction = model3.predict(X)\n",
    "print(prediction)"
   ]
  },
  {
   "cell_type": "code",
   "execution_count": null,
   "id": "5129e498",
   "metadata": {},
   "outputs": [],
   "source": []
  }
 ],
 "metadata": {
  "kernelspec": {
   "display_name": "Python 3 (ipykernel)",
   "language": "python",
   "name": "python3"
  },
  "language_info": {
   "codemirror_mode": {
    "name": "ipython",
    "version": 3
   },
   "file_extension": ".py",
   "mimetype": "text/x-python",
   "name": "python",
   "nbconvert_exporter": "python",
   "pygments_lexer": "ipython3",
   "version": "3.11.5"
  }
 },
 "nbformat": 4,
 "nbformat_minor": 5
}
